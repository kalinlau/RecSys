{
 "cells": [
  {
   "cell_type": "markdown",
   "metadata": {},
   "source": [
    "# Data\n",
    "---"
   ]
  },
  {
   "cell_type": "markdown",
   "metadata": {},
   "source": [
    "## data search\n",
    "1. [RecSys Datasets](https://cseweb.ucsd.edu/~jmcauley/datasets.html): UCSD(Julian McAuley's Lab) RecSys dataset\n",
    "1. [Social Computing Data Repository](http://socialcomputing.asu.edu/pages/home): Social Computing Data Repository at Arizona State University\n",
    "1. [YouTube](http://netsg.cs.sfu.ca/youtubedata/): Statistics and Social Network of YouTube Videos\n",
    "1. [Kaggle](https://www.kaggle.com/)\n",
    "1. [crowdAI](https://www.crowdai.org/): Kaggle like\n",
    "1. [Google dataset search](https://toolbox.google.com/datasetsearch)\n",
    "1. [Microsoft Research Open Data](https://msropendata.com/)\n",
    "1. [HIN dataset search](http://shichuan.org/HIN_dataset.html)\n",
    "1. [Community Resource for Archiving Wireless Data At Dartmouth(CRAWDAD)](http://crawdad.org/all-byname.html)\n",
    "1. [Illinois Databank](https://databank.illinois.edu/datasets)\n",
    "1. [Stanford Network Analysis Project](http://snap.stanford.edu/data/index.html)\n",
    "1. [Yahoo Dataset](https://webscope.sandbox.yahoo.com/index.php)"
   ]
  },
  {
   "cell_type": "markdown",
   "metadata": {},
   "source": [
    "## Local\n",
    "<div>\n",
    "    <ol>\n",
    "        <li>KG\n",
    "            <ol>\n",
    "                <li>DBpedia\n",
    "                    <ol>\n",
    "                        <li>OWA-KGC: dbpedia50k <b style=\"color:green\">[DONE]</b></li>\n",
    "                        <li>CWA-KGC: dbpedia500k <b style=\"color:green\">[DONE]</b></li>\n",
    "                        <li>official: download the category u need. <b style=\"color:green\">[DONE]</b></li>\n",
    "                    </ol>\n",
    "                </li>\n",
    "                <li>Yago <b style=\"color:green\">[DONE]</b></li>\n",
    "                <li>Freebase\n",
    "                    <ol>\n",
    "                        <li>FB15K <b style=\"color:green\">[DONE]</b></li>\n",
    "                        <li>FB_latest <b style=\"color:green\">[DONE]</b></li>\n",
    "                    </ol>\n",
    "                </li>\n",
    "            </ol>\n",
    "        </li>\n",
    "        <li>Session-based\n",
    "            <ol>\n",
    "                <li>kkbox-challenge <b style=\"color:green\">[DONE]</b></li>\n",
    "                <li>Spotify</li>\n",
    "                <li>Alibaba: <b style=\"color:green\">[DONE]</b></li>\n",
    "            </ol>\n",
    "        </li>\n",
    "        <li>Social Recommendation\n",
    "            <ol>\n",
    "                <li>Epinions <b style=\"color:green\">[DONE]</b></li>\n",
    "                <li><a href=\"https://www.cse.msu.edu/~tangjili/trust.html\">Ciao</a></li>\n",
    "                <li>librarything <b style=\"color:green\">[DONE]</b></li>\n",
    "                <li>Netflix <b style=\"color:green\">[DONE]</b></li>\n",
    "                <li>Douban movie <b style=\"color:green\">[DONE]</b></li>\n",
    "                <li>Douban book <b style=\"color:green\">[DONE]</b></li>\n",
    "                <li>Yelp <b style=\"color:green\">[DONE]</b></li>\n",
    "                <li>NetEase Music <b style=\"color:yellow\">[helf]</b></li>\n",
    "            </ol>\n",
    "        </li>\n",
    "        <li>location-based recommendation\n",
    "            <ol>\n",
    "                <li>\n",
    "                    <a href=\"https://sites.google.com/site/yangdingqi/home/foursquare-dataset\">Foursquare</a>\n",
    "                    <b style=\"color:green\">[DONE]</b>\n",
    "                </li>\n",
    "                <li>\n",
    "                    <a href=\"http://snap.stanford.edu/data/loc-gowalla.html\">Gowalla</a>\n",
    "                    <b style=\"color:green\">[DONE]</b>\n",
    "                </li>\n",
    "                <li>\n",
    "                    <a href=\"https://planet.osm.org/\">PlantOSM</a>\n",
    "                </li>\n",
    "                <li>\n",
    "                    <a href=\"http://crawdad.org/all-byname.html\">CRAWDAD</a>\n",
    "                </li>\n",
    "            </ol>\n",
    "        </li>\n",
    "        <li>Location-based social network Recommendation(LBSN)\n",
    "            <ol>\n",
    "                <li><a href=\"http://spatialkeyword.sce.ntu.edu.sg/eval-vldb17/\" style=\"color:green;\">baseline</a></li>\n",
    "                <li><a href=\"http://spatialkeyword.sce.ntu.edu.sg/eval-vldb17/\">data</a></li>\n",
    "            </ol>\n",
    "        </li>\n",
    "        <li>general recommendation:\n",
    "            <ol>\n",
    "                <li>MovieLen</li>\n",
    "                <li>Netflix</li>\n",
    "                <li>MovieTweetings</li>\n",
    "                <li><a href=\"http://www2.informatik.uni-freiburg.de/~cziegler/BX/\">BookCrossing</a></li>\n",
    "            </ol>\n",
    "        </li>\n",
    "        <li>HIN dataset for Recsys <b style=\"color:green\">[DONE]</b></li>\n",
    "    </ol>\n",
    "</div>"
   ]
  },
  {
   "cell_type": "markdown",
   "metadata": {},
   "source": [
    "## [RecSys Challenge](https://github.com/recsyschallenge)\n",
    "---\n",
    "1. [2019](https://recsys.trivago.cloud/) <b style=\"color:green\">[DONE]</b>\n",
    "1. [2018](https://github.com/tmscarla/spotify-recsys-challenge): <b style=\"color:red\">[NOT FOUND]</b>\n",
    "    > A complete set of Recommender Systems techniques used in the Spotify \n",
    "      Recsys Challenge 2018 developed by a team of MSc students in Politecnico di Milano.\n",
    "1. [2015]: <b style=\"color:red\">[Email]</b>"
   ]
  },
  {
   "cell_type": "markdown",
   "metadata": {},
   "source": [
    "## IJCAI\n",
    "---\n",
    "1. 2019: <b style=\"color:green\">[DONE]</b>"
   ]
  },
  {
   "cell_type": "markdown",
   "metadata": {},
   "source": [
    "## KDD CUP\n",
    "---\n",
    "1. 2019: \n",
    "    1. [Context-Aware Multi-Modal Transportation Recommendation](https://dianshi.baidu.com/competition/29/rule) \n",
    "       <b style=\"color:green\">[DONE]</b>"
   ]
  }
 ],
 "metadata": {
  "kernelspec": {
   "display_name": "Python 3",
   "language": "python",
   "name": "python3"
  },
  "language_info": {
   "codemirror_mode": {
    "name": "ipython",
    "version": 3
   },
   "file_extension": ".py",
   "mimetype": "text/x-python",
   "name": "python",
   "nbconvert_exporter": "python",
   "pygments_lexer": "ipython3",
   "version": "3.7.1"
  }
 },
 "nbformat": 4,
 "nbformat_minor": 2
}
