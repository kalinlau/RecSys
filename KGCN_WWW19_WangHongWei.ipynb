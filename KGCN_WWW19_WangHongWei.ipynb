{
 "cells": [
  {
   "cell_type": "markdown",
   "metadata": {},
   "source": [
    "# Knowledge Graph Convolutional Networks for Recommender Systems\n",
    "---\n",
    "\n",
    "## [Round1] Big Que(What the whole field are concerned about)\n",
    "data sparsity\n",
    "\n",
    "## [Round1] Background(< 5 sentences)\n",
    "**keywords**: connection\n",
    "\n",
    "## [Round1] Specific Que\n",
    "capture high-order topographical connection and semantic embedding\n",
    "\n",
    "## [Round1] Approach(What are the authors going to do)\n",
    "1. muti-hop propagation\n",
    "1. direct neighbor aggregation\n",
    "\n",
    "## [Round1] Methodology\n",
    "* KGCN layer\n",
    "\n",
    "## [Round1] Result\n",
    "\n",
    "\n",
    "## [Round2] Introspect (before reading the interpretation section)\n",
    "\n",
    "## [Round2] Other Review [Survey/Twitter/OpenReview/]\n",
    "\n",
    "## [Round1] Summary\n",
    "1. using KG to offer side information --> cold start/data sparsity.\n",
    "1. use structure information presenting as multi-hop connection map. And this \n",
    "   structure information is static.\n",
    "1. <span style=\"color:red\">relation only offers connection, no semantic.</span>\n",
    "\n",
    "## [Round1] Reference"
   ]
  }
 ],
 "metadata": {
  "kernelspec": {
   "display_name": "Python 3",
   "language": "python",
   "name": "python3"
  },
  "language_info": {
   "codemirror_mode": {
    "name": "ipython",
    "version": 3
   },
   "file_extension": ".py",
   "mimetype": "text/x-python",
   "name": "python",
   "nbconvert_exporter": "python",
   "pygments_lexer": "ipython3",
   "version": "3.7.1"
  }
 },
 "nbformat": 4,
 "nbformat_minor": 2
}
