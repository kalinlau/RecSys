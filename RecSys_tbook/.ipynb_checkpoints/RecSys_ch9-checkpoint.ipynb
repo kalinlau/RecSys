{
 "cells": [
  {
   "cell_type": "markdown",
   "metadata": {},
   "source": [
    "# <span style=\"color:FORESTGREEN\">Ch9 Time-/Location-Aware Recsys</span>\n",
    "---"
   ]
  },
  {
   "cell_type": "markdown",
   "metadata": {},
   "source": [
    "1. Time can be used in 2 ways generally:\n",
    "    1. explicit rating with dates\n",
    "    1. implicit behavior(buy, scan, review, etc.) with dates\n",
    "1. hard to use\n",
    "    1. implicit info is widely investigated under forecasting view: discrete data mining\n",
    "1. different view point: \n",
    "    \n",
    "    > <span style=\"background-color:LIGHTCORAL\">treat as variable(contextual) or as environment(recency/forecast)</span>\n",
    "    \n",
    "    1. recency: recent > older\n",
    "    1. forecasting\n",
    "    1. contextual: seasonal\n",
    "        > context-aware RecSys\n",
    "1. time-SVD++: model time as a variable, and rates as a function of time <span style=\"color:LIGHTCORAL\">Var-view</span>\n",
    "1. Domains like Web clickstreams: <span style=\"color:LIGHTCORAL\">Env-view</span>"
   ]
  },
  {
   "cell_type": "markdown",
   "metadata": {},
   "source": [
    "## <span style=\"color:SKYBLUE\">9.2 Temporal CF: ordered ratings</span>\n",
    "\n",
    "1. Recency models: $\\mathit{Importance}(recent) > \\mathit{Importance}(older)$\n",
    "    1. 2 methods:\n",
    "        1. window-based\n",
    "        1. decay-based: $t_{f}$ is the future target time\n",
    "            $$w_{u j}\\left(t_{f}\\right)=\\exp \\left[-\\lambda\\left(t_{f}-t_{u j}\\right)\\right]$$\n",
    "            $$\\hat{r}_{u j}\\left(t_{f}\\right)=\\mu_{u}+\\frac{\\sum_{v \\in P_{u}(j)} w_{v j}\\left(t_{f}\\right) \\cdot \\operatorname{Sim}(u, v) \\cdot\\left(r_{v j}-\\mu_{v}\\right)}{\\sum_{v \\in P_{u}(j)} w_{v j}\\left(t_{f}\\right) \\cdot|\\operatorname{sim}(u, v)|}$$\n",
    "    1. ads: easy; disads: cannot capture the refined temporal characters\n",
    "1. Perodic models: time as contextual variables\n",
    "    1. handled by <span style=\"color:LIGHTCORAL\">multidimensional RecSys</span>\n",
    "        1. pre-filtering: remove unrelevant part\n",
    "        1. post-filtering: adjust recommendation result\n",
    "1. parameterized models: time as independent variables\n",
    "    1. methods: <b style=\"color:GREENYELLOW\">time-SVD++</b> <span style=\"color:LIGHTCORAL\">[SOTA]</span>: temporally parameterized\n",
    "        * $$\\hat{r}_{i j}(t)=o_{i}(t)+p_{j}(t)+\\sum_{s=1}^{k}\\left(u_{i s}(t)+\\sum_{h \\in I_{i}} \\frac{y_{h s}}{\\sqrt{\\left|I_{i}\\right|}}\\right) \\cdot v_{j s}$$\n",
    "            * item bias $p_{j}(t)$: popularity of item can vary significently over time, but high level of continuity and \n",
    "              stability over shorter periods.\n",
    "                1. $p_{j}(t)=C_{j}+$ Offset $_{j, Bin(t)}$\n",
    "            * user bias $o_{i}\\left(t\\right)$\n",
    "                1. concept drift: $\\operatorname{dev}_{i}(t)=\\operatorname{sign}\\left(t-\\nu_{i}\\right) \\cdot\\left|t-\\nu_{i}\\right|^{\\beta}$\n",
    "                1. user bias = const_part + time_dependent + transient_noise:\n",
    "                   > $o_{i}(t)=K_{i}+\\alpha_{i} \\cdot \\operatorname{dev}_{i}(t)+\\epsilon_{i t}$\n",
    "            * user factors $u_{is}\\left(t\\right)$: affinity of users towards various concepts. (simliar approach as \n",
    "              user bias $o_{i}\\left(t\\right)$)\n",
    "              > $u_{i s}(t)=K_{i s}^{\\prime}+\\alpha_{i s}^{\\prime} \\cdot \\operatorname{dev}_{i}(t)+\\epsilon_{i s t}^{\\prime}$\n",
    "        * optimization problem: $$J=\\frac{1}{2} \\sum_{(i, j) \\in S}\\left[r_{i j}-\\hat{r}_{i j}\\left(t_{i j}\\right)\\right]^{2}+\\lambda \\cdot(\\text { Regularization Term })$$"
   ]
  },
  {
   "cell_type": "markdown",
   "metadata": {},
   "source": [
    "## <span style=\"color:SKYBLUE\">9.3 Discrete Temporal Models</span>\n",
    "\n",
    "> <i style=\"color:SILVER\">input organized as ordered sequences, including the meaning of time</i>\n",
    "\n",
    "1. discrete models: time as clicks\n",
    "1. Markovian models\n",
    "    1. outlined arch/idea\n",
    "    1. selective markov models\n",
    "    1. hidden markov models\n",
    "1. sequential pattern-mining methods"
   ]
  },
  {
   "cell_type": "markdown",
   "metadata": {},
   "source": [
    "## <span style=\"color:SKYBLUE\">9.4 Localtion-Aware RecSys</span>"
   ]
  }
 ],
 "metadata": {
  "kernelspec": {
   "display_name": "Python 3",
   "language": "python",
   "name": "python3"
  },
  "language_info": {
   "codemirror_mode": {
    "name": "ipython",
    "version": 3
   },
   "file_extension": ".py",
   "mimetype": "text/x-python",
   "name": "python",
   "nbconvert_exporter": "python",
   "pygments_lexer": "ipython3",
   "version": "3.7.1"
  }
 },
 "nbformat": 4,
 "nbformat_minor": 2
}
