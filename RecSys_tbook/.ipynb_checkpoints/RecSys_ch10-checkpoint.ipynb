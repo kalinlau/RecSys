{
 "cells": [
  {
   "cell_type": "markdown",
   "metadata": {},
   "source": [
    "# Ch10 Structural Recommendations in Networks\n",
    "---"
   ]
  },
  {
   "cell_type": "markdown",
   "metadata": {},
   "source": [
    "## <b style=\"color:SKYBLUE\">10.1 Intro</b>\n",
    "1. personalization is now achievable and important, even to searching like Google\n",
    "1. Graph/Network[DS] is useful\n",
    "    1. personalized PageRank: authority + personalization + context\n",
    "        > recommending nodes by authority and context\n",
    "    1. similarity-based recommendation\n",
    "        > recommending nodes by examples\n",
    "    1. viral marketing: recommend entities based on their ability to influence others\n",
    "        > recommending nodes by influence and content\n",
    "    1. link prediction:\n",
    "        > recommending links\n",
    "1. Traditional user-item recommendation can be grouped into this Graph view\n",
    "    > user-item interactive graph\n",
    "1. This chapter focuses on <b><span style=\"color:GREENYELLOW\">structure</span></b> aspect of graph."
   ]
  },
  {
   "cell_type": "markdown",
   "metadata": {},
   "source": [
    "## <b style=\"color:SKYBLUE\">10.2 Ranking Algo</b>\n",
    "<ol>\n",
    "    <li>PageRank\n",
    "        <ul>\n",
    "            <li>\n",
    "                models the importance of nodes with the use of the citation structure in the Web graph\n",
    "            </li>\n",
    "            <li>\n",
    "                basic assumption: highly reputable documents are more likely to be \n",
    "                cited by other reputable web page.\n",
    "            </li>\n",
    "            <li>\n",
    "                Dead-end component\n",
    "                <ol>\n",
    "                    <li>add links</li>\n",
    "                    <li>restart step</li>\n",
    "                </ol>\n",
    "            </li>\n",
    "            <li>\n",
    "                steady-state probabilities:\n",
    "                <span style=\"color:OLIVEDRAB\">$$\\pi(i)=\\frac{\\alpha}{n}+(1-\\alpha) \\cdot \\sum_{j \\in I n(i)} \\pi(j) \\cdot p_{j i}$$</span>\n",
    "            </li>\n",
    "            <li>\n",
    "                steady-state prob in matrix form:\n",
    "                <span style=\"color:OLIVEDRAB\">$$\\overline{\\pi}=\\frac{\\alpha\\overline{e}}{n}+(1-\\alpha) P^{T} \\overline{\\pi}$$</span>\n",
    "            </li>\n",
    "        </ul>\n",
    "    </li>\n",
    "    <li>Personalized PageRank</li>\n",
    "    <li>Applied to Neighborhood-Based Recommendation</li>\n",
    "    <li>SimRank</li>\n",
    "    <li>Search vs. Recommendation</li>\n",
    "</ol>"
   ]
  },
  {
   "cell_type": "markdown",
   "metadata": {},
   "source": [
    "## <b style=\"color:SKYBLUE\">10.4 Link Prediction</b>\n",
    "* 3-type neighbor-based measure\n",
    "    1. Common Neighbor Measure(<span style=\"color:CRIMSON;font-style: italic\">not consider relativity</span>):\n",
    "        <span style=\"color:OLIVEDRAB\">$$\\text{CommonNeighbors}(i, j)=\\left|S_{i} \\cap S_{j}\\right|$$</span>\n",
    "    1. Jaccard Measure(<span style=\"color:CRIMSON;font-style: italic\">not consider high-order approximity</span>):\n",
    "        <span style=\"color:OLIVEDRAB\">$$\\text{JaccardPredict}(i, j)=\\frac{\\left|S_{i} \\cap S_{j}\\right|}{\\left|S_{i} \\cup S_{j}\\right|}$$</span>\n",
    "    1. Adamic-Adar Measure:\n",
    "        <span style=\"color:OLIVEDRAB\">$$\\text{AdamicAdar}(i,j)=\\sum_{k \\in S_{i} \\cap S_{j}} \\frac{1}{\\log \\left(\\left|S_{k}\\right|\\right)}$$</span>\n",
    "* Katz Measure\n",
    "<div><span style=\"background-color:#555555;\">discremination by different order approximity</span></div>\n",
    "<span style=\"color:OLIVEDRAB\">$$Katz(i, j)=\\sum_{t=1}^{\\infty} \\beta^{t} \\cdot n_{i j}^{(t)}$$</span>\n",
    "* RandomWalk-Based Measure\n",
    "    1. PageRank\n",
    "* Classification Method\n",
    "* MF: <span style=\"color:OLIVEDRAB\">$$A \\approx U V^{T}$$</span>"
   ]
  },
  {
   "cell_type": "markdown",
   "metadata": {},
   "source": [
    "## <b style=\"color:SKYBLUE\">10.5 Social Influence Analysis and Viral Marketing</b>\n",
    "\n",
    "* influence propagation model/diffusion models:\n",
    "    * centrality\n",
    "    * influential likelihood link weight\n",
    "* what is <span style=\"color:PALEVIOLETRED\">influence Maximization</span>?\n",
    "* what is <span style=\"color:PALEVIOLETRED\">Submodularity</span>?\n",
    "* 2 kind of influential function:\n",
    "    * Linear Threshhold Model\n",
    "    * Independent Cascade Model"
   ]
  }
 ],
 "metadata": {
  "kernelspec": {
   "display_name": "Python 3",
   "language": "python",
   "name": "python3"
  },
  "language_info": {
   "codemirror_mode": {
    "name": "ipython",
    "version": 3
   },
   "file_extension": ".py",
   "mimetype": "text/x-python",
   "name": "python",
   "nbconvert_exporter": "python",
   "pygments_lexer": "ipython3",
   "version": "3.7.1"
  }
 },
 "nbformat": 4,
 "nbformat_minor": 2
}
