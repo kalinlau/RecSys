{
 "cells": [
  {
   "cell_type": "markdown",
   "metadata": {},
   "source": [
    "# Ch8 Context-Sensitive RecSys\n",
    "---"
   ]
  },
  {
   "cell_type": "markdown",
   "metadata": {},
   "source": [
    "## 8.2 Multidim Model\n",
    "### Keywords: tensor\n",
    "1. General view of multidim recommendation:\n",
    "    > querying for top-ranked combinations of values with the use of two disjoint subsets from $D_1, \\dots, D_w$\n",
    "1. DF of Multidimensional Recommendation\n",
    "1. Importance of hierarchy in different abstraction level"
   ]
  },
  {
   "cell_type": "markdown",
   "metadata": {},
   "source": [
    "## 8.3. pre-filtering & reduction\n",
    "1. basic idea: reduce the w-dimensional estimation problem to a set of 2-dimensional estimations"
   ]
  },
  {
   "cell_type": "markdown",
   "metadata": {},
   "source": [
    "## 8.4. Post-filtering\n"
   ]
  },
  {
   "cell_type": "markdown",
   "metadata": {},
   "source": [
    "## 8.5. Direct Incorporating Method\n",
    "1. neighbor-based model\n",
    "1. latent factor model\n",
    "    1. <span style=\"color:yellow;background-color:gray\"><b>Factorization Machines</b></span>\n",
    "        1. basic idea: rate is linear combination of different components\n",
    "        1. expand\n",
    "        1. SVD+LFM: second-order polynormial approximation"
   ]
  },
  {
   "cell_type": "markdown",
   "metadata": {},
   "source": [
    "## 8.6 Summary\n"
   ]
  }
 ],
 "metadata": {
  "kernelspec": {
   "display_name": "Python 3",
   "language": "python",
   "name": "python3"
  },
  "language_info": {
   "codemirror_mode": {
    "name": "ipython",
    "version": 3
   },
   "file_extension": ".py",
   "mimetype": "text/x-python",
   "name": "python",
   "nbconvert_exporter": "python",
   "pygments_lexer": "ipython3",
   "version": "3.7.1"
  }
 },
 "nbformat": 4,
 "nbformat_minor": 2
}
