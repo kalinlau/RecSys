{
 "cells": [
  {
   "cell_type": "markdown",
   "metadata": {},
   "source": [
    "# Ch7 Evaluation\n",
    "---\n",
    "## Sec1. Intro\n",
    "## Sec2. Paradigm"
   ]
  },
  {
   "cell_type": "markdown",
   "metadata": {},
   "source": [
    "## Sec3. General Goal\n",
    "<span style=\"color:red\">lost math defination</span>\n",
    "\n",
    "<table>\n",
    "    <tr>\n",
    "        <th>Critique</th>\n",
    "        <th>Aims</th>\n",
    "        <th>Memo</th>\n",
    "    </tr>\n",
    "    <tr>\n",
    "        <th>Accuracy</th>\n",
    "        <th>entry-specific error,top-k</th>\n",
    "        <th>\n",
    "            <ol>\n",
    "                <li>Designing the accuracy evaluation</li>\n",
    "                <li>Accuracy metrics</li>\n",
    "                <li>Accuracy of estimating rankings</li>\n",
    "            </ol>\n",
    "        </th>\n",
    "    </tr>\n",
    "    <tr>\n",
    "        <th>Coverage</th>\n",
    "        <th></th>\n",
    "    </tr>\n",
    "    <tr>\n",
    "        <th>Confidence/Trust</th>\n",
    "        <th>\n",
    "            <ol>\n",
    "                <li>system's faith</li>\n",
    "                <li>user's faith</li>\n",
    "            </ol>\n",
    "        </th>\n",
    "    </tr>\n",
    "    <tr>\n",
    "        <th>Novelty</th>\n",
    "        <th></th>\n",
    "    </tr>\n",
    "    <tr>\n",
    "        <th>Serendipity</th>\n",
    "        <th></th>\n",
    "    </tr>\n",
    "    <tr>\n",
    "        <th>Diversity</th>\n",
    "        <th></th>\n",
    "    </tr>\n",
    "    <tr>\n",
    "        <th>Robustness/Stability</th>\n",
    "        <th></th>\n",
    "    </tr>\n",
    "    <tr>\n",
    "        <th>Scalability</th>\n",
    "        <th>\n",
    "            <ol>\n",
    "                <li>Training time</li>\n",
    "                <li>Prediction time</li>\n",
    "                <li>Memory requirements</li>\n",
    "            </ol>\n",
    "        </th>\n",
    "    </tr>\n",
    "</table>"
   ]
  },
  {
   "cell_type": "markdown",
   "metadata": {},
   "source": [
    "## Sec4. Design Issue of Acc\n",
    "1. Same way as ML\n",
    "1. case study: Netflix Prize\n"
   ]
  },
  {
   "cell_type": "markdown",
   "metadata": {},
   "source": [
    "## Sec5. Accuracy Metrics\n",
    "1. Scenerary: Rating Prediction\n",
    "    1. MSE: $$MSE=\\frac{\\sum_{(u, j) \\in E} e_{u j}^{2}}{|E|}$$\n",
    "    1. RMSE: $$ RMSE=\\sqrt{\\frac{\\sum_{(u, j) \\in E} e_{u j}^{2}}{|E|}} $$\n",
    "    1. NMAE(normalized MAE):$$NRMSE=\\frac{RMSE}{r_{\\max }-r_{\\min }}$$\n",
    "    1. NRMSE(normalized RMSE): $$NMAE=\\frac{MAE}{r_{\\text {max}}-r_{\\text {min}}}$$\n",
    "    1. <span style=\"color:red\">summary: suffer from long-tail impact</span>\n",
    "        > <span style=\"color:lightgreen\">weighted!</span>        \n",
    "1. Scenerary: Rank\n",
    "    1. via Correlation\n",
    "        1. Spearman rank correlation coefficient\n",
    "        1. Kendall rank correlation coefficient\n",
    "        1. normalized distance-based performance measure(NDPM)\n",
    "    1. via Utility\n",
    "        1. Utility:\n",
    "            1. R-Score\n",
    "                1. raing-based utility: $\\max \\left\\{r_{u j}-C_{u}, 0\\right\\}$\n",
    "                1. item-based utility: $2^{-\\left(v_{j}-1\\right) / \\alpha}$\n",
    "                1. Utility=ru*iu: \n",
    "                    $F(u, j)=\\frac{\\max \\left\\{r_{u j}-C_{u}, 0\\right\\}}{2^{\\left(v_{j}-1\\right) / \\alpha}}$\n",
    "                1. R-Score of User $\\mathbf{u}$: \n",
    "                    $\\mathrm{R}_{-\\mathrm{S} \\operatorname{core}}(u)=\\sum_{j \\in I_{u}} F(u, j)$\n",
    "                1. R-Score overall: $\\mathrm{R}_{score} = \\sum_{u=1}^{m} \\mathrm{R}_{score} (u)$\n",
    "            1. NDCG\n",
    "            1. ARHR\n",
    "    1. via Receiver Operating Characteristic\n",
    "        1. confiusion matrix:\n",
    "            1. Precision\n",
    "            1. Recall\n",
    "            1. ROC\n",
    "            1. AUC\n",
    "\n",
    "## Sec6. Limitation\n",
    "1. key point: <b>Missing Not At Random</b> && <b>evaluation bias</b>\n",
    "    1. model prediction or the missing entry\n",
    "    1. user protrait by long or short period (<span style=\"color:red\">hot topic</span>)\n",
    "1. Avoiding Evaluation Gaming\n",
    "\n",
    "## Sec7. Summary"
   ]
  },
  {
   "cell_type": "code",
   "execution_count": 11,
   "metadata": {},
   "outputs": [
    {
     "data": {
      "text/plain": [
       "[<matplotlib.lines.Line2D at 0x7f0b678088d0>,\n",
       " <matplotlib.lines.Line2D at 0x7f0b67808a20>]"
      ]
     },
     "execution_count": 11,
     "metadata": {},
     "output_type": "execute_result"
    },
    {
     "data": {
      "image/png": "[encoded data removed]",
      "text/plain": [
       "<Figure size 432x288 with 1 Axes>"
      ]
     },
     "metadata": {
      "needs_background": "light"
     },
     "output_type": "display_data"
    }
   ],
   "source": [
    "import numpy as np\n",
    "import matplotlib.pyplot as plt\n",
    "\n",
    "x = np.linspace(0, 1000)\n",
    "plt.plot(x, np.sqrt(x), \"g\", x, x, \"r\")"
   ]
  }
 ],
 "metadata": {
  "kernelspec": {
   "display_name": "Python 3",
   "language": "python",
   "name": "python3"
  },
  "language_info": {
   "codemirror_mode": {
    "name": "ipython",
    "version": 3
   },
   "file_extension": ".py",
   "mimetype": "text/x-python",
   "name": "python",
   "nbconvert_exporter": "python",
   "pygments_lexer": "ipython3",
   "version": "3.7.1"
  }
 },
 "nbformat": 4,
 "nbformat_minor": 2
}
